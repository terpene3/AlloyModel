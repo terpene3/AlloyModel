{
 "cells": [
  {
   "cell_type": "markdown",
   "metadata": {},
   "source": [
    "## Summary"
   ]
  },
  {
   "cell_type": "code",
   "execution_count": 1,
   "metadata": {
    "collapsed": true
   },
   "outputs": [],
   "source": [
    "from utility import *\n",
    "import pandas as pd"
   ]
  },
  {
   "cell_type": "markdown",
   "metadata": {},
   "source": [
    "Models were evaluated and tuned based on logistic regression, random forests, and neural networks.\n",
    "As the data set is highly biased towards unstable binary compounds, the dataset was rebalanced to aid in training. As all stability vectors have 1 at the 0 and 10 index, modelling and evaluation solely focussed on the 1-9 indices."
   ]
  },
  {
   "cell_type": "code",
   "execution_count": 22,
   "metadata": {
    "collapsed": false
   },
   "outputs": [
    {
     "data": {
      "image/png": "[encoded data removed]",
      "text/plain": [
       "<matplotlib.figure.Figure at 0x29ec20fcc18>"
      ]
     },
     "metadata": {},
     "output_type": "display_data"
    }
   ],
   "source": [
    "ytrain = pLoad(\"ytrain\")\n",
    "plt.figure(figsize=(16,4))\n",
    "plt.bar(np.arange(ytrain.shape[1]),np.mean(ytrain, axis = 0))\n",
    "\n",
    "plt.ylabel('Fraction of Stable Compounds in Trainig Data')\n",
    "plt.xticks(np.arange(ytrain.shape[1]), [\"A\" + str(np.round(1-i/10, decimals = 1)) + \"B\" + str(i/10) for i in range(11) ])\n",
    "plt.show()"
   ]
  },
  {
   "cell_type": "markdown",
   "metadata": {},
   "source": [
    "One issue is that fitting a trivial model that outputs [0,0,0,0,0,0,0,0,0] may and was shown to occur in the case of the logistic regression and nueral network due to unbalanced classes.\n",
    "\n",
    "To resolve this issue, new training subsets were generated on a per stability vector index basis that are balanced for stable and unstable observations.\n",
    "\n",
    "Notebooks are included that summarize the key steps used in:\n",
    "* data prepreocessing and vizulatization\n",
    "* developing a logistic regression\n",
    "* developing a random forest classifier\n",
    "*developing a neural network classifier. \n",
    "\n",
    "Additional files of code are included:\n",
    "* featureGen.py for augmenting features\n",
    "* utility.py for data handling and cross validation\n",
    "* rebalance.py for balancing classes and logistic regression on the resulting training data\n"
   ]
  },
  {
   "cell_type": "markdown",
   "metadata": {},
   "source": [
    "## Summary of model fitting results"
   ]
  },
  {
   "cell_type": "code",
   "execution_count": 42,
   "metadata": {
    "collapsed": false
   },
   "outputs": [
    {
     "data": {
      "text/html": [
       "<div>\n",
       "<style scoped>\n",
       "    .dataframe tbody tr th:only-of-type {\n",
       "        vertical-align: middle;\n",
       "    }\n",
       "\n",
       "    .dataframe tbody tr th {\n",
       "        vertical-align: top;\n",
       "    }\n",
       "\n",
       "    .dataframe thead th {\n",
       "        text-align: right;\n",
       "    }\n",
       "</style>\n",
       "<table border=\"1\" class=\"dataframe\">\n",
       "  <thead>\n",
       "    <tr style=\"text-align: right;\">\n",
       "      <th></th>\n",
       "      <th>0</th>\n",
       "      <th>logistic</th>\n",
       "      <th>random forest</th>\n",
       "      <th>neural network</th>\n",
       "    </tr>\n",
       "  </thead>\n",
       "  <tbody>\n",
       "    <tr>\n",
       "      <th>0</th>\n",
       "      <td>train MSE</td>\n",
       "      <td>0.268881</td>\n",
       "      <td>0.039449</td>\n",
       "      <td>0.176742</td>\n",
       "    </tr>\n",
       "    <tr>\n",
       "      <th>1</th>\n",
       "      <td>test MSE</td>\n",
       "      <td>0.267574</td>\n",
       "      <td>0.076666</td>\n",
       "      <td>0.178153</td>\n",
       "    </tr>\n",
       "    <tr>\n",
       "      <th>2</th>\n",
       "      <td>train precision</td>\n",
       "      <td>0.821862</td>\n",
       "      <td>0.449393</td>\n",
       "      <td>0.826923</td>\n",
       "    </tr>\n",
       "    <tr>\n",
       "      <th>3</th>\n",
       "      <td>train recall</td>\n",
       "      <td>0.260758</td>\n",
       "      <td>0.727869</td>\n",
       "      <td>0.238540</td>\n",
       "    </tr>\n",
       "  </tbody>\n",
       "</table>\n",
       "</div>"
      ],
      "text/plain": [
       "                 0  logistic  random forest  neural network\n",
       "0        train MSE  0.268881       0.039449        0.176742\n",
       "1         test MSE  0.267574       0.076666        0.178153\n",
       "2  train precision  0.821862       0.449393        0.826923\n",
       "3     train recall  0.260758       0.727869        0.238540"
      ]
     },
     "execution_count": 42,
     "metadata": {},
     "output_type": "execute_result"
    }
   ],
   "source": [
    "rf  = pd.DataFrame(pLoad(\"randomforest\"))\n",
    "log = pd.DataFrame(pLoad(\"logreg\"))\n",
    "nn = pd.DataFrame(pLoad(\"neuralnetwork\"))\n",
    "pd.concat([pd.Series([\"train MSE\",\"test MSE\",\"train precision\",\"train recall\"]), log,rf, nn],axis = 1)"
   ]
  },
  {
   "cell_type": "markdown",
   "metadata": {},
   "source": [
    "The random forest had the lowest test and training MSE. The high traing MSE of the logistic regression indiciates that the stability does not follow a simple relation in the predictors. Although neural network can have very high flexibility, they can require comparatively large training data sets. The random forest is much more flexible than the logistic regression but is less dependent on having a large training dataset which may explain the comparatively high performance of the random forest classifier. The neural network and logistic regression have the highest precissions while the random forest has the highest recall."
   ]
  },
  {
   "cell_type": "markdown",
   "metadata": {},
   "source": [
    "Although the neural net offers very high flexibility, its accuracy was limited even on the train set. The neural network was able to train on the A.07B0.3, A0.5B0.5, and A0.3B.07 while there was great difficulty training for the other binary compositions. This mostly likely resulted from the small training data size due to a lack of observation of stable compounds for these other alloys. Augmenting the training data set and/or training the neural network or transfer learning from another chemical data set may allow for training more complex neural networks and improve the performance to exceed the random forest."
   ]
  },
  {
   "cell_type": "code",
   "execution_count": null,
   "metadata": {
    "collapsed": true
   },
   "outputs": [],
   "source": []
  }
 ],
 "metadata": {
  "kernelspec": {
   "display_name": "Python 3",
   "language": "python",
   "name": "python3"
  },
  "language_info": {
   "codemirror_mode": {
    "name": "ipython",
    "version": 3
   },
   "file_extension": ".py",
   "mimetype": "text/x-python",
   "name": "python",
   "nbconvert_exporter": "python",
   "pygments_lexer": "ipython3",
   "version": "3.6.0"
  }
 },
 "nbformat": 4,
 "nbformat_minor": 2
}
